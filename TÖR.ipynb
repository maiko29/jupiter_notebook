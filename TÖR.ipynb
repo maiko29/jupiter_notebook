{
  "nbformat": 4,
  "nbformat_minor": 0,
  "metadata": {
    "colab": {
      "name": "TÖR.ipynb",
      "provenance": [],
      "collapsed_sections": [],
      "authorship_tag": "ABX9TyMAz7sCNC51Zy4PX+0xPAsV",
      "include_colab_link": true
    },
    "kernelspec": {
      "name": "python3",
      "display_name": "Python 3"
    }
  },
  "cells": [
    {
      "cell_type": "markdown",
      "metadata": {
        "id": "view-in-github",
        "colab_type": "text"
      },
      "source": [
        "<a href=\"https://colab.research.google.com/github/maiko29/jupiter_notebook/blob/main/T%C3%96R.ipynb\" target=\"_parent\"><img src=\"https://colab.research.google.com/assets/colab-badge.svg\" alt=\"Open In Colab\"/></a>"
      ]
    },
    {
      "cell_type": "code",
      "metadata": {
        "id": "sl_OsQJXsDF7"
      },
      "source": [
        "import xml.etree.ElementTree as ET\r\n",
        "from datetime import datetime, timedelta, date\r\n",
        "\r\n",
        "# Küsime sisendit, kopeeri ja kleebi antud muutujasse TÖR XML, mida soovid parsida soovitud kujule\r\n",
        "sisend=input('Sisesta TÖR XML, sõltumata selle sisendi pikkusest:\\n\\n')\r\n",
        "\r\n",
        "# loome tree objekti\r\n",
        "minupuu = ET.fromstring(sisend)\r\n",
        "\r\n",
        "# loome tühja järjendi erinevate kannete kogumiseks\r\n",
        "kanded = []\r\n",
        "\r\n",
        "# väljastame väljundi päised\r\n",
        "print(\"\\n\\nParsitud TÖR XML (NB: hetkel ei arvesta puhkuseid ja eemalolekuid!!!):\")\r\n",
        "print('(algus, lõpp, olek, päevi, IK, ettevõte, reg_kood)\\n')\r\n",
        "\r\n",
        "# tsükkel kõikide kannete parsimiseks\r\n",
        "for leitud in minupuu.findall('.//kanne'):\r\n",
        "    algus = datetime.strptime(leitud.find('tootamise_algus').text, \"%Y-%m-%d\")\r\n",
        "    lopp = datetime.strptime(leitud.find('tootamise_lopp').text, \"%Y-%m-%d\")\r\n",
        "    kestvus = lopp - algus\r\n",
        "    kanneteSõnastik = {}\r\n",
        "    kanneteSõnastik['algus']=algus.strftime(\"%d.%m.%Y\")\r\n",
        "    kanneteSõnastik['lopp']=lopp.strftime(\"%d.%m.%Y\")\r\n",
        "    kanneteSõnastik['IK']=leitud.find('isikukood').text\r\n",
        "    kanneteSõnastik['tööandja']=leitud.find('ta_nimi').text\r\n",
        "    kanneteSõnastik['tööandjaKood']=leitud.find('ta_kood').text\r\n",
        "    kanneteSõnastik['kandeOlek']=leitud.find('kande_olek_nimi').text\r\n",
        "    kanded.append(kanneteSõnastik)\r\n",
        "    del(kanneteSõnastik)\r\n",
        "    # tsükli tulemuse väljastamine ekraanile\r\n",
        "    print(algus.strftime(\"%d.%m.%Y\"), lopp.strftime(\"%d.%m.%Y\"),leitud.find('kande_olek_nimi').text, kestvus.days+1,'päeva', leitud.find('isikukood').text, leitud.find('ta_nimi').text, leitud.find('ta_kood').text)\r\n",
        "    \r\n",
        "print(\"\\nProgramm on töö lõpetanud.\")"
      ],
      "execution_count": null,
      "outputs": []
    }
  ]
}
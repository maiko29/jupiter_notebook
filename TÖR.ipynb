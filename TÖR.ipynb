{
  "nbformat": 4,
  "nbformat_minor": 0,
  "metadata": {
    "colab": {
      "name": "TÖR.ipynb",
      "provenance": [],
      "collapsed_sections": [],
      "authorship_tag": "ABX9TyNRrQc+V7aIYKevGTH+LFcB",
      "include_colab_link": true
    },
    "kernelspec": {
      "name": "python3",
      "display_name": "Python 3"
    }
  },
  "cells": [
    {
      "cell_type": "markdown",
      "metadata": {
        "id": "view-in-github",
        "colab_type": "text"
      },
      "source": [
        "<a href=\"https://colab.research.google.com/github/maiko29/jupiter_notebook/blob/main/T%C3%96R.ipynb\" target=\"_parent\"><img src=\"https://colab.research.google.com/assets/colab-badge.svg\" alt=\"Open In Colab\"/></a>"
      ]
    },
    {
      "cell_type": "code",
      "metadata": {
        "id": "sl_OsQJXsDF7"
      },
      "source": [
        "import xml.etree.ElementTree as ET\n",
        "from datetime import datetime, timedelta, date\n",
        "import ipywidgets as widgets\n",
        "\n",
        "\n",
        "# Küsime sisendit, kopeeri ja kleebi antud muutujasse TÖR XML, mida soovid parsida soovitud kujule\n",
        "#sisend0=widgets.Textarea(\n",
        "#    placeholder='Kleebi siia sisse TÖR päringu vastus XML-ina',\n",
        "#    description='TÖR sisend:',\n",
        "#    disabled=False\n",
        "#)\n",
        "#display(sisend0)\n",
        "\n",
        "#sisend = str(sisend0)\n",
        "\n",
        "sisend=input('Sisesta TÖR XML, sõltumata selle sisendi pikkusest:\\n\\n')\n",
        "\n",
        "# loome tree objekti\n",
        "minupuu = ET.fromstring(sisend)\n",
        "\n",
        "# loome tühja järjendi erinevate kannete kogumiseks\n",
        "kanded = []\n",
        "\n",
        "# väljastame väljundi päised\n",
        "print(\"\\n\\nParsitud TÖR XML (NB: hetkel ei arvesta puhkuseid ja eemalolekuid!!!):\")\n",
        "print('(algus, lõpp, olek, päevi, IK, ettevõte, reg_kood)\\n')\n",
        "\n",
        "# tsükkel kõikide kannete parsimiseks\n",
        "for leitud in minupuu.findall('.//kanne'):\n",
        "    algus = datetime.strptime(leitud.find('tootamise_algus').text, \"%Y-%m-%d\")\n",
        "    lopp = datetime.strptime(leitud.find('tootamise_lopp').text, \"%Y-%m-%d\")\n",
        "    kestvus = lopp - algus\n",
        "    kanneteSõnastik = {}\n",
        "    kanneteSõnastik['algus']=algus.strftime(\"%d.%m.%Y\")\n",
        "    kanneteSõnastik['lopp']=lopp.strftime(\"%d.%m.%Y\")\n",
        "    kanneteSõnastik['IK']=leitud.find('isikukood').text\n",
        "    kanneteSõnastik['tööandja']=leitud.find('ta_nimi').text\n",
        "    kanneteSõnastik['tööandjaKood']=leitud.find('ta_kood').text\n",
        "    kanneteSõnastik['kandeOlek']=leitud.find('kande_olek_nimi').text\n",
        "    kanded.append(kanneteSõnastik)\n",
        "    del(kanneteSõnastik)\n",
        "    # tsükli tulemuse väljastamine ekraanile\n",
        "    print(algus.strftime(\"%d.%m.%Y\"), lopp.strftime(\"%d.%m.%Y\"),leitud.find('kande_olek_nimi').text, kestvus.days+1,'päeva', leitud.find('isikukood').text, leitud.find('ta_nimi').text, leitud.find('ta_kood').text)\n",
        "    \n",
        "print(\"\\nProgramm on töö lõpetanud.\")"
      ],
      "execution_count": null,
      "outputs": []
    }
  ]
}
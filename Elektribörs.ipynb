{
  "nbformat": 4,
  "nbformat_minor": 0,
  "metadata": {
    "colab": {
      "name": "Elektribörs.ipynb",
      "provenance": [],
      "authorship_tag": "ABX9TyOgXwM2iJae6HISb/CEkFQG",
      "include_colab_link": true
    },
    "kernelspec": {
      "name": "python3",
      "display_name": "Python 3"
    }
  },
  "cells": [
    {
      "cell_type": "markdown",
      "metadata": {
        "id": "view-in-github",
        "colab_type": "text"
      },
      "source": [
        "<a href=\"https://colab.research.google.com/github/maiko29/jupiter_notebook/blob/main/Elektrib%C3%B6rs.ipynb\" target=\"_parent\"><img src=\"https://colab.research.google.com/assets/colab-badge.svg\" alt=\"Open In Colab\"/></a>"
      ]
    },
    {
      "cell_type": "code",
      "metadata": {
        "colab": {
          "base_uri": "https://localhost:8080/"
        },
        "id": "l3OhWduS7bhJ",
        "outputId": "5eed81aa-9417-4ec1-c91e-5397c2ea676f"
      },
      "source": [
        "import urllib\r\n",
        "from urllib.request import urlopen\r\n",
        "import json\r\n",
        "from datetime import datetime\r\n",
        "\r\n",
        "link = \"http://dashboard.elering.ee/api/nps/price?start=2021-02-01%2000%3A00&end=2021-02-01%2023%3A59\"\r\n",
        "f = urllib.request.urlopen(link)\r\n",
        "myfile = f.read()\r\n",
        "andmed = json.loads(myfile)\r\n",
        "print(andmed)\r\n",
        "\r\n",
        "print(andmed[\"data\"][\"ee\"])\r\n",
        "\r\n",
        "for i in andmed[\"data\"][\"ee\"]:\r\n",
        "  print(\"Ajatempel: \"+datetime.fromtimestamp(i['timestamp']).strftime('%H')+' Hind: '+str(i['price']))"
      ],
      "execution_count": 10,
      "outputs": [
        {
          "output_type": "stream",
          "text": [
            "{'success': True, 'data': {'ee': [{'timestamp': 1612137600, 'price': 40.98}, {'timestamp': 1612141200, 'price': 40.94}, {'timestamp': 1612144800, 'price': 40.02}, {'timestamp': 1612148400, 'price': 40.76}, {'timestamp': 1612152000, 'price': 58.14}, {'timestamp': 1612155600, 'price': 64.96}, {'timestamp': 1612159200, 'price': 149.95}, {'timestamp': 1612162800, 'price': 199.94}, {'timestamp': 1612166400, 'price': 165.79}, {'timestamp': 1612170000, 'price': 125.54}, {'timestamp': 1612173600, 'price': 67.18}, {'timestamp': 1612177200, 'price': 66.04}, {'timestamp': 1612180800, 'price': 66.35}, {'timestamp': 1612184400, 'price': 78.45}, {'timestamp': 1612188000, 'price': 86.08}, {'timestamp': 1612191600, 'price': 140.02}, {'timestamp': 1612195200, 'price': 199.94}, {'timestamp': 1612198800, 'price': 119.03}, {'timestamp': 1612202400, 'price': 70.47}, {'timestamp': 1612206000, 'price': 62.29}, {'timestamp': 1612209600, 'price': 56.36}, {'timestamp': 1612213200, 'price': 55.25}, {'timestamp': 1612216800, 'price': 49.4}, {'timestamp': 1612220400, 'price': 46.13}], 'fi': [{'timestamp': 1612137600, 'price': 40.98}, {'timestamp': 1612141200, 'price': 40.94}, {'timestamp': 1612144800, 'price': 40.02}, {'timestamp': 1612148400, 'price': 40.76}, {'timestamp': 1612152000, 'price': 58.14}, {'timestamp': 1612155600, 'price': 64.96}, {'timestamp': 1612159200, 'price': 149.95}, {'timestamp': 1612162800, 'price': 199.94}, {'timestamp': 1612166400, 'price': 165.79}, {'timestamp': 1612170000, 'price': 125.54}, {'timestamp': 1612173600, 'price': 67.18}, {'timestamp': 1612177200, 'price': 66.04}, {'timestamp': 1612180800, 'price': 66.35}, {'timestamp': 1612184400, 'price': 78.45}, {'timestamp': 1612188000, 'price': 86.08}, {'timestamp': 1612191600, 'price': 140.02}, {'timestamp': 1612195200, 'price': 199.94}, {'timestamp': 1612198800, 'price': 119.03}, {'timestamp': 1612202400, 'price': 70.47}, {'timestamp': 1612206000, 'price': 62.29}, {'timestamp': 1612209600, 'price': 56.36}, {'timestamp': 1612213200, 'price': 55.25}, {'timestamp': 1612216800, 'price': 49.4}, {'timestamp': 1612220400, 'price': 46.13}], 'lv': [{'timestamp': 1612137600, 'price': 40.98}, {'timestamp': 1612141200, 'price': 40.94}, {'timestamp': 1612144800, 'price': 40.02}, {'timestamp': 1612148400, 'price': 40.76}, {'timestamp': 1612152000, 'price': 58.14}, {'timestamp': 1612155600, 'price': 64.96}, {'timestamp': 1612159200, 'price': 149.95}, {'timestamp': 1612162800, 'price': 199.94}, {'timestamp': 1612166400, 'price': 165.79}, {'timestamp': 1612170000, 'price': 125.54}, {'timestamp': 1612173600, 'price': 67.18}, {'timestamp': 1612177200, 'price': 66.04}, {'timestamp': 1612180800, 'price': 66.35}, {'timestamp': 1612184400, 'price': 78.45}, {'timestamp': 1612188000, 'price': 86.08}, {'timestamp': 1612191600, 'price': 140.02}, {'timestamp': 1612195200, 'price': 199.94}, {'timestamp': 1612198800, 'price': 119.03}, {'timestamp': 1612202400, 'price': 70.47}, {'timestamp': 1612206000, 'price': 62.29}, {'timestamp': 1612209600, 'price': 56.36}, {'timestamp': 1612213200, 'price': 55.25}, {'timestamp': 1612216800, 'price': 49.4}, {'timestamp': 1612220400, 'price': 46.13}], 'lt': [{'timestamp': 1612137600, 'price': 40.98}, {'timestamp': 1612141200, 'price': 40.94}, {'timestamp': 1612144800, 'price': 40.02}, {'timestamp': 1612148400, 'price': 40.76}, {'timestamp': 1612152000, 'price': 58.14}, {'timestamp': 1612155600, 'price': 64.96}, {'timestamp': 1612159200, 'price': 149.95}, {'timestamp': 1612162800, 'price': 199.94}, {'timestamp': 1612166400, 'price': 165.79}, {'timestamp': 1612170000, 'price': 125.54}, {'timestamp': 1612173600, 'price': 67.18}, {'timestamp': 1612177200, 'price': 66.04}, {'timestamp': 1612180800, 'price': 66.35}, {'timestamp': 1612184400, 'price': 78.45}, {'timestamp': 1612188000, 'price': 86.08}, {'timestamp': 1612191600, 'price': 140.02}, {'timestamp': 1612195200, 'price': 199.94}, {'timestamp': 1612198800, 'price': 119.03}, {'timestamp': 1612202400, 'price': 70.47}, {'timestamp': 1612206000, 'price': 62.29}, {'timestamp': 1612209600, 'price': 56.36}, {'timestamp': 1612213200, 'price': 55.25}, {'timestamp': 1612216800, 'price': 49.4}, {'timestamp': 1612220400, 'price': 46.13}]}}\n",
            "[{'timestamp': 1612137600, 'price': 40.98}, {'timestamp': 1612141200, 'price': 40.94}, {'timestamp': 1612144800, 'price': 40.02}, {'timestamp': 1612148400, 'price': 40.76}, {'timestamp': 1612152000, 'price': 58.14}, {'timestamp': 1612155600, 'price': 64.96}, {'timestamp': 1612159200, 'price': 149.95}, {'timestamp': 1612162800, 'price': 199.94}, {'timestamp': 1612166400, 'price': 165.79}, {'timestamp': 1612170000, 'price': 125.54}, {'timestamp': 1612173600, 'price': 67.18}, {'timestamp': 1612177200, 'price': 66.04}, {'timestamp': 1612180800, 'price': 66.35}, {'timestamp': 1612184400, 'price': 78.45}, {'timestamp': 1612188000, 'price': 86.08}, {'timestamp': 1612191600, 'price': 140.02}, {'timestamp': 1612195200, 'price': 199.94}, {'timestamp': 1612198800, 'price': 119.03}, {'timestamp': 1612202400, 'price': 70.47}, {'timestamp': 1612206000, 'price': 62.29}, {'timestamp': 1612209600, 'price': 56.36}, {'timestamp': 1612213200, 'price': 55.25}, {'timestamp': 1612216800, 'price': 49.4}, {'timestamp': 1612220400, 'price': 46.13}]\n",
            "Ajatempel: 00 Hind: 40.98\n",
            "Ajatempel: 01 Hind: 40.94\n",
            "Ajatempel: 02 Hind: 40.02\n",
            "Ajatempel: 03 Hind: 40.76\n",
            "Ajatempel: 04 Hind: 58.14\n",
            "Ajatempel: 05 Hind: 64.96\n",
            "Ajatempel: 06 Hind: 149.95\n",
            "Ajatempel: 07 Hind: 199.94\n",
            "Ajatempel: 08 Hind: 165.79\n",
            "Ajatempel: 09 Hind: 125.54\n",
            "Ajatempel: 10 Hind: 67.18\n",
            "Ajatempel: 11 Hind: 66.04\n",
            "Ajatempel: 12 Hind: 66.35\n",
            "Ajatempel: 13 Hind: 78.45\n",
            "Ajatempel: 14 Hind: 86.08\n",
            "Ajatempel: 15 Hind: 140.02\n",
            "Ajatempel: 16 Hind: 199.94\n",
            "Ajatempel: 17 Hind: 119.03\n",
            "Ajatempel: 18 Hind: 70.47\n",
            "Ajatempel: 19 Hind: 62.29\n",
            "Ajatempel: 20 Hind: 56.36\n",
            "Ajatempel: 21 Hind: 55.25\n",
            "Ajatempel: 22 Hind: 49.4\n",
            "Ajatempel: 23 Hind: 46.13\n"
          ],
          "name": "stdout"
        }
      ]
    }
  ]
}
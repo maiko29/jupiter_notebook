{
  "nbformat": 4,
  "nbformat_minor": 0,
  "metadata": {
    "colab": {
      "name": "kuupäeva kalkulaator.ipynb",
      "provenance": [],
      "collapsed_sections": [],
      "authorship_tag": "ABX9TyMPsi4mpVWkfHHCk7H5uUIk",
      "include_colab_link": true
    },
    "kernelspec": {
      "name": "python3",
      "display_name": "Python 3"
    }
  },
  "cells": [
    {
      "cell_type": "markdown",
      "metadata": {
        "id": "view-in-github",
        "colab_type": "text"
      },
      "source": [
        "<a href=\"https://colab.research.google.com/github/maiko29/jupiter_notebook/blob/main/kuup%C3%A4eva_kalkulaator.ipynb\" target=\"_parent\"><img src=\"https://colab.research.google.com/assets/colab-badge.svg\" alt=\"Open In Colab\"/></a>"
      ]
    },
    {
      "cell_type": "markdown",
      "metadata": {
        "id": "3Vs5_vEWsSXE"
      },
      "source": [
        "Käesoleva ***Jupyter Notebook***i eesmärgiks on arvutada tänasest kuupäevast ***n*** päeva võrra edasi või tagasi suunas jäävaid kuupäevi. Esimene blokk arvutab *vaikimisi* tänasest kuupäevast 180* päeva tagasi suunas. 180 päeva *vaikeväärtust* võid koodis muutujas ***mituPäevaTagasi*** muuta vastavalt oma soovile. "
      ]
    },
    {
      "cell_type": "code",
      "metadata": {
        "id": "eB7qqlfjfOSM"
      },
      "source": [
        "from datetime import datetime,timedelta\r\n",
        "from ipywidgets import interact, widgets, Layout\r\n",
        "\r\n",
        "## selle muutuja väärtust võid muuta selliseks, millist päevade arvu tagasi suunas arvutada soovid\r\n",
        "mituPäevaTagasi = 180\r\n",
        "\r\n",
        "nädalaPäevadEestiKeeles = {\r\n",
        "'Monday':'esmaspäev',\r\n",
        "'Tuesday':'teisipäev',\r\n",
        "'Wednesday':'kolmapäev',\r\n",
        "'Thursday':'neljapäev',\r\n",
        "'Friday':'reede',\r\n",
        "'Saturday':'laupäev',\r\n",
        "'Sunday':'pühapäev'\r\n",
        "}\r\n",
        "\r\n",
        "täna = datetime.today().strftime('%d.%m.%Y')\r\n",
        "vastus = datetime.today()-timedelta(days=mituPäevaTagasi)\r\n",
        "\r\n",
        "def teine(x):\r\n",
        "  täna = datetime.today().strftime('%d.%m.%Y')\r\n",
        "  return datetime.today()-timedelta(days=x)\r\n",
        "\r\n",
        "\r\n",
        "def päevaTagasi(x):\r\n",
        "  täna = datetime.today().strftime('%d.%m.%Y')\r\n",
        "  vastus = datetime.today()+timedelta(days=x)\r\n",
        "  return vastus.strftime('%d.%m.%Y'), nädalaPäevadEestiKeeles[vastus.strftime('%A')]\r\n",
        "\r\n",
        "print('Tänasest ('+täna+') '+str(mituPäevaTagasi)+' päeva tagasi oli: '+vastus.strftime('%d.%m.%Y')+', mille nädalapäev oli '+nädalaPäevadEestiKeeles[vastus.strftime('%A')]+'.')\r\n",
        "print('\\n')\r\n",
        "print('Tänasest ('+täna+') 365 päeva tagasi oli: '+teine(365).strftime('%d.%m.%Y')+', mille nädalapäev oli '+nädalaPäevadEestiKeeles[teine(365).strftime('%A')]+'.')\r\n",
        "print('\\n')\r\n",
        "print('Tänasest ('+täna+') 455 päeva tagasi oli: '+teine(455).strftime('%d.%m.%Y')+', mille nädalapäev oli '+nädalaPäevadEestiKeeles[teine(455).strftime('%A')]+'.')\r\n",
        "\r\n"
      ],
      "execution_count": null,
      "outputs": []
    },
    {
      "cell_type": "markdown",
      "metadata": {
        "id": "gQl1Dy8DpSQy"
      },
      "source": [
        "---\r\n",
        "Alljärgneva vidina abil on võimalik liuguri abil leida **tänasest** kuupäevast \r\n",
        "\r\n",
        "sellele +/- 360 päeva eelnev/järgnev kuupäev.\r\n",
        "\r\n",
        "S.t   \r\n",
        "*   ***täna + 0 päeva*** väljastab tänase kuupäeva,\r\n",
        "*   ***täna - 1 päev*** väljastab eilse kuupäeva (pane tähele, et eilsest tänaseni (**k.a**) on seevastu aga 2 päeva...)\r\n",
        "*   ***täna + 2 päeva*** väljastab ülehomse kuupäeva (pane tähele, et tänasest ülehomseni (**k.a**) on seevastu aga 3 päeva...)\r\n",
        "\r\n",
        "\r\n",
        "Soovitud arvutuseks lohista liugurit ja anna mõni hetk tulemuse kuvamiseks. \r\n",
        "\r\n",
        "Alternatiivselt on sul võimalik trükkida täpne päevade arv liuguri kõrval olevale numbriväljale."
      ]
    },
    {
      "cell_type": "code",
      "metadata": {
        "id": "5MJj1JQLnir7"
      },
      "source": [
        "interact(päevaTagasi,x=widgets.IntSlider(min=-360,max=360,value=0,description='Nihe päevades: ', layout=Layout(width='1500px')))"
      ],
      "execution_count": null,
      "outputs": []
    }
  ]
}
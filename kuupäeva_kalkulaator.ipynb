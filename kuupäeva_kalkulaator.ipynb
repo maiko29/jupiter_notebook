{
  "nbformat": 4,
  "nbformat_minor": 0,
  "metadata": {
    "colab": {
      "name": "kuupäeva kalkulaator.ipynb",
      "provenance": [],
      "collapsed_sections": [],
      "authorship_tag": "ABX9TyN8hTLYlJVlEr/6bwYvffsO",
      "include_colab_link": true
    },
    "kernelspec": {
      "name": "python3",
      "display_name": "Python 3"
    },
    "widgets": {
      "application/vnd.jupyter.widget-state+json": {
        "47ba7985daa14ba6b62887a9f27beaa1": {
          "model_module": "@jupyter-widgets/controls",
          "model_name": "VBoxModel",
          "state": {
            "_view_name": "VBoxView",
            "_dom_classes": [
              "widget-interact"
            ],
            "_model_name": "VBoxModel",
            "_view_module": "@jupyter-widgets/controls",
            "_model_module_version": "1.5.0",
            "_view_count": null,
            "_view_module_version": "1.5.0",
            "box_style": "",
            "layout": "IPY_MODEL_6f7955a02749420e863126b629a95818",
            "_model_module": "@jupyter-widgets/controls",
            "children": [
              "IPY_MODEL_9858432b38b74df799b2e97d0eba4275",
              "IPY_MODEL_4a24a47e24324e4eaef820d5c111d869"
            ]
          }
        },
        "6f7955a02749420e863126b629a95818": {
          "model_module": "@jupyter-widgets/base",
          "model_name": "LayoutModel",
          "state": {
            "_view_name": "LayoutView",
            "grid_template_rows": null,
            "right": null,
            "justify_content": null,
            "_view_module": "@jupyter-widgets/base",
            "overflow": null,
            "_model_module_version": "1.2.0",
            "_view_count": null,
            "flex_flow": null,
            "width": null,
            "min_width": null,
            "border": null,
            "align_items": null,
            "bottom": null,
            "_model_module": "@jupyter-widgets/base",
            "top": null,
            "grid_column": null,
            "overflow_y": null,
            "overflow_x": null,
            "grid_auto_flow": null,
            "grid_area": null,
            "grid_template_columns": null,
            "flex": null,
            "_model_name": "LayoutModel",
            "justify_items": null,
            "grid_row": null,
            "max_height": null,
            "align_content": null,
            "visibility": null,
            "align_self": null,
            "height": null,
            "min_height": null,
            "padding": null,
            "grid_auto_rows": null,
            "grid_gap": null,
            "max_width": null,
            "order": null,
            "_view_module_version": "1.2.0",
            "grid_template_areas": null,
            "object_position": null,
            "object_fit": null,
            "grid_auto_columns": null,
            "margin": null,
            "display": null,
            "left": null
          }
        },
        "9858432b38b74df799b2e97d0eba4275": {
          "model_module": "@jupyter-widgets/controls",
          "model_name": "IntSliderModel",
          "state": {
            "_view_name": "IntSliderView",
            "style": "IPY_MODEL_3a19656a3d5344b29bd4d56fb5e9c6e4",
            "_dom_classes": [],
            "description": "x",
            "step": 1,
            "_model_name": "IntSliderModel",
            "orientation": "horizontal",
            "max": 360,
            "_view_module": "@jupyter-widgets/controls",
            "_model_module_version": "1.5.0",
            "value": 61,
            "_view_count": null,
            "disabled": false,
            "_view_module_version": "1.5.0",
            "min": -360,
            "continuous_update": true,
            "readout_format": "d",
            "description_tooltip": null,
            "readout": true,
            "_model_module": "@jupyter-widgets/controls",
            "layout": "IPY_MODEL_4f35bf85344b40fa8c4bb758a9f0746f"
          }
        },
        "4a24a47e24324e4eaef820d5c111d869": {
          "model_module": "@jupyter-widgets/output",
          "model_name": "OutputModel",
          "state": {
            "_view_name": "OutputView",
            "msg_id": "",
            "_dom_classes": [],
            "_model_name": "OutputModel",
            "outputs": [
              {
                "output_type": "display_data",
                "metadata": {
                  "tags": []
                },
                "text/plain": "('20.03.2021', 'laupäev')"
              }
            ],
            "_view_module": "@jupyter-widgets/output",
            "_model_module_version": "1.0.0",
            "_view_count": null,
            "_view_module_version": "1.0.0",
            "layout": "IPY_MODEL_17741167494d479a8c574a60a1782d57",
            "_model_module": "@jupyter-widgets/output"
          }
        },
        "3a19656a3d5344b29bd4d56fb5e9c6e4": {
          "model_module": "@jupyter-widgets/controls",
          "model_name": "SliderStyleModel",
          "state": {
            "_view_name": "StyleView",
            "handle_color": null,
            "_model_name": "SliderStyleModel",
            "description_width": "",
            "_view_module": "@jupyter-widgets/base",
            "_model_module_version": "1.5.0",
            "_view_count": null,
            "_view_module_version": "1.2.0",
            "_model_module": "@jupyter-widgets/controls"
          }
        },
        "4f35bf85344b40fa8c4bb758a9f0746f": {
          "model_module": "@jupyter-widgets/base",
          "model_name": "LayoutModel",
          "state": {
            "_view_name": "LayoutView",
            "grid_template_rows": null,
            "right": null,
            "justify_content": null,
            "_view_module": "@jupyter-widgets/base",
            "overflow": null,
            "_model_module_version": "1.2.0",
            "_view_count": null,
            "flex_flow": null,
            "width": null,
            "min_width": null,
            "border": null,
            "align_items": null,
            "bottom": null,
            "_model_module": "@jupyter-widgets/base",
            "top": null,
            "grid_column": null,
            "overflow_y": null,
            "overflow_x": null,
            "grid_auto_flow": null,
            "grid_area": null,
            "grid_template_columns": null,
            "flex": null,
            "_model_name": "LayoutModel",
            "justify_items": null,
            "grid_row": null,
            "max_height": null,
            "align_content": null,
            "visibility": null,
            "align_self": null,
            "height": null,
            "min_height": null,
            "padding": null,
            "grid_auto_rows": null,
            "grid_gap": null,
            "max_width": null,
            "order": null,
            "_view_module_version": "1.2.0",
            "grid_template_areas": null,
            "object_position": null,
            "object_fit": null,
            "grid_auto_columns": null,
            "margin": null,
            "display": null,
            "left": null
          }
        },
        "17741167494d479a8c574a60a1782d57": {
          "model_module": "@jupyter-widgets/base",
          "model_name": "LayoutModel",
          "state": {
            "_view_name": "LayoutView",
            "grid_template_rows": null,
            "right": null,
            "justify_content": null,
            "_view_module": "@jupyter-widgets/base",
            "overflow": null,
            "_model_module_version": "1.2.0",
            "_view_count": null,
            "flex_flow": null,
            "width": null,
            "min_width": null,
            "border": null,
            "align_items": null,
            "bottom": null,
            "_model_module": "@jupyter-widgets/base",
            "top": null,
            "grid_column": null,
            "overflow_y": null,
            "overflow_x": null,
            "grid_auto_flow": null,
            "grid_area": null,
            "grid_template_columns": null,
            "flex": null,
            "_model_name": "LayoutModel",
            "justify_items": null,
            "grid_row": null,
            "max_height": null,
            "align_content": null,
            "visibility": null,
            "align_self": null,
            "height": null,
            "min_height": null,
            "padding": null,
            "grid_auto_rows": null,
            "grid_gap": null,
            "max_width": null,
            "order": null,
            "_view_module_version": "1.2.0",
            "grid_template_areas": null,
            "object_position": null,
            "object_fit": null,
            "grid_auto_columns": null,
            "margin": null,
            "display": null,
            "left": null
          }
        }
      }
    }
  },
  "cells": [
    {
      "cell_type": "markdown",
      "metadata": {
        "id": "view-in-github",
        "colab_type": "text"
      },
      "source": [
        "<a href=\"https://colab.research.google.com/github/maiko29/jupiter_notebook/blob/main/kuup%C3%A4eva_kalkulaator.ipynb\" target=\"_parent\"><img src=\"https://colab.research.google.com/assets/colab-badge.svg\" alt=\"Open In Colab\"/></a>"
      ]
    },
    {
      "cell_type": "markdown",
      "metadata": {
        "id": "3Vs5_vEWsSXE"
      },
      "source": [
        "Käesoleva ***Jupyter Notebook***i eesmärgiks on arvutada tänasest kuupäevast ***n*** päeva võrra edasi või tagasi suunas jäävaid kuupäevi. Esimene blokk arvutab *vaikimisi* tänasest kuupäevast 180* päeva tagasi suunas. 180 päeva *vaikeväärtust* võid koodis muutujas ***mituPäevaTagasi*** muuta vastavalt oma soovile. "
      ]
    },
    {
      "cell_type": "code",
      "metadata": {
        "colab": {
          "base_uri": "https://localhost:8080/"
        },
        "id": "eB7qqlfjfOSM",
        "outputId": "e5286859-8ffb-4c5b-ad47-5b982e1ffc95"
      },
      "source": [
        "from datetime import datetime,timedelta\r\n",
        "from ipywidgets import interact, widgets\r\n",
        "\r\n",
        "## selle muutuja väärtust võid muuta selliseks, millist päevade arvu tagasi suunas arvutada soovid\r\n",
        "mituPäevaTagasi = 180\r\n",
        "\r\n",
        "nädalaPäevadEestiKeeles = {\r\n",
        "'Monday':'esmaspäev',\r\n",
        "'Tuesday':'teisipäev',\r\n",
        "'Wednesday':'kolmapäev',\r\n",
        "'Thursday':'neljapäev',\r\n",
        "'Friday':'reede',\r\n",
        "'Saturday':'laupäev',\r\n",
        "'Sunday':'pühapäev'\r\n",
        "}\r\n",
        "\r\n",
        "täna = datetime.today().strftime('%d.%m.%Y')\r\n",
        "vastus = datetime.today()-timedelta(days=mituPäevaTagasi)\r\n",
        "\r\n",
        "\r\n",
        "def päevaTagasi(x):\r\n",
        "  täna = datetime.today().strftime('%d.%m.%Y')\r\n",
        "  vastus = datetime.today()+timedelta(days=x)\r\n",
        "  return vastus.strftime('%d.%m.%Y'), nädalaPäevadEestiKeeles[vastus.strftime('%A')]\r\n",
        "\r\n",
        "print('Tänasest ('+täna+') '+str(mituPäevaTagasi)+' päeva tagasi oli: '+vastus.strftime('%d.%m.%Y')+', mille nädalapäev oli '+nädalaPäevadEestiKeeles[vastus.strftime('%A')]+'.')\r\n",
        "\r\n"
      ],
      "execution_count": 37,
      "outputs": [
        {
          "output_type": "stream",
          "text": [
            "Tänasest (18.01.2021) 180 päeva tagasi oli: 22.07.2020, mille nädalapäev oli kolmapäev.\n"
          ],
          "name": "stdout"
        }
      ]
    },
    {
      "cell_type": "markdown",
      "metadata": {
        "id": "gQl1Dy8DpSQy"
      },
      "source": [
        "---\r\n",
        "Alljärgneva vidina abil on võimalik liuguri abil leida **tänasest** kuupäevast \r\n",
        "\r\n",
        "sellele +/- 360 päeva eelnev/järgnev kuupäev.\r\n",
        "\r\n",
        "S.t   \r\n",
        "*   ***täna + 0 päeva*** väljastab tänase kuupäeva,\r\n",
        "*   ***täna - 1 päeva*** väljastab eilse kuupäeva (pane tähele, et eilsest tänaseni (**k.a**) on seevastu aga 2 päeva...)\r\n",
        "*   ***täna + 1 päeva*** väljastab homse kuupäeva (pane tähele, et tänasest homseni (**k.a**) on seevastu aga 2 päeva...)\r\n",
        "\r\n",
        "\r\n",
        "Soovitud arvutuseks lohista liugurit ja anna mõni hetk tulemuse kuvamiseks. \r\n",
        "\r\n",
        "Alternatiivselt on sul võimalik trükkida täpne päevade arv liuguri kõrval olevale numbriväljale."
      ]
    },
    {
      "cell_type": "code",
      "metadata": {
        "colab": {
          "base_uri": "https://localhost:8080/",
          "height": 83,
          "referenced_widgets": [
            "47ba7985daa14ba6b62887a9f27beaa1",
            "6f7955a02749420e863126b629a95818",
            "9858432b38b74df799b2e97d0eba4275",
            "4a24a47e24324e4eaef820d5c111d869",
            "3a19656a3d5344b29bd4d56fb5e9c6e4",
            "4f35bf85344b40fa8c4bb758a9f0746f",
            "17741167494d479a8c574a60a1782d57"
          ]
        },
        "id": "5MJj1JQLnir7",
        "outputId": "c59280d9-2553-4e19-f602-a62389245b4c"
      },
      "source": [
        "interact(päevaTagasi,x=widgets.IntSlider(min=-360,max=360,value=0))"
      ],
      "execution_count": 38,
      "outputs": [
        {
          "output_type": "display_data",
          "data": {
            "application/vnd.jupyter.widget-view+json": {
              "model_id": "47ba7985daa14ba6b62887a9f27beaa1",
              "version_minor": 0,
              "version_major": 2
            },
            "text/plain": [
              "interactive(children=(IntSlider(value=0, description='x', max=360, min=-360), Output()), _dom_classes=('widget…"
            ]
          },
          "metadata": {
            "tags": []
          }
        },
        {
          "output_type": "execute_result",
          "data": {
            "text/plain": [
              "<function __main__.päevaTagasi>"
            ]
          },
          "metadata": {
            "tags": []
          },
          "execution_count": 38
        }
      ]
    }
  ]
}
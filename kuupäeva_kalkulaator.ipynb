{
  "nbformat": 4,
  "nbformat_minor": 0,
  "metadata": {
    "colab": {
      "name": "kuupäeva kalkulaator.ipynb",
      "provenance": [],
      "collapsed_sections": [],
      "authorship_tag": "ABX9TyMPsi4mpVWkfHHCk7H5uUIk",
      "include_colab_link": true
    },
    "kernelspec": {
      "name": "python3",
      "display_name": "Python 3"
    },
    "widgets": {
      "application/vnd.jupyter.widget-state+json": {
        "cd398fa3e2f94eb09d645b3308c8616b": {
          "model_module": "@jupyter-widgets/controls",
          "model_name": "VBoxModel",
          "state": {
            "_view_name": "VBoxView",
            "_dom_classes": [
              "widget-interact"
            ],
            "_model_name": "VBoxModel",
            "_view_module": "@jupyter-widgets/controls",
            "_model_module_version": "1.5.0",
            "_view_count": null,
            "_view_module_version": "1.5.0",
            "box_style": "",
            "layout": "IPY_MODEL_c9bda227c7444a9c9fa4b46f55f957c1",
            "_model_module": "@jupyter-widgets/controls",
            "children": [
              "IPY_MODEL_84fcf2059ac64268aa504a46b5a0a124",
              "IPY_MODEL_a2d8b8ea20c54064a7909e6edefba8ee"
            ]
          }
        },
        "c9bda227c7444a9c9fa4b46f55f957c1": {
          "model_module": "@jupyter-widgets/base",
          "model_name": "LayoutModel",
          "state": {
            "_view_name": "LayoutView",
            "grid_template_rows": null,
            "right": null,
            "justify_content": null,
            "_view_module": "@jupyter-widgets/base",
            "overflow": null,
            "_model_module_version": "1.2.0",
            "_view_count": null,
            "flex_flow": null,
            "width": null,
            "min_width": null,
            "border": null,
            "align_items": null,
            "bottom": null,
            "_model_module": "@jupyter-widgets/base",
            "top": null,
            "grid_column": null,
            "overflow_y": null,
            "overflow_x": null,
            "grid_auto_flow": null,
            "grid_area": null,
            "grid_template_columns": null,
            "flex": null,
            "_model_name": "LayoutModel",
            "justify_items": null,
            "grid_row": null,
            "max_height": null,
            "align_content": null,
            "visibility": null,
            "align_self": null,
            "height": null,
            "min_height": null,
            "padding": null,
            "grid_auto_rows": null,
            "grid_gap": null,
            "max_width": null,
            "order": null,
            "_view_module_version": "1.2.0",
            "grid_template_areas": null,
            "object_position": null,
            "object_fit": null,
            "grid_auto_columns": null,
            "margin": null,
            "display": null,
            "left": null
          }
        },
        "84fcf2059ac64268aa504a46b5a0a124": {
          "model_module": "@jupyter-widgets/controls",
          "model_name": "IntSliderModel",
          "state": {
            "_view_name": "IntSliderView",
            "style": "IPY_MODEL_1cbbc34027b24363a349d59ba6dc4700",
            "_dom_classes": [],
            "description": "Nihe päevades: ",
            "step": 1,
            "_model_name": "IntSliderModel",
            "orientation": "horizontal",
            "max": 360,
            "_view_module": "@jupyter-widgets/controls",
            "_model_module_version": "1.5.0",
            "value": 0,
            "_view_count": null,
            "disabled": false,
            "_view_module_version": "1.5.0",
            "min": -360,
            "continuous_update": true,
            "readout_format": "d",
            "description_tooltip": null,
            "readout": true,
            "_model_module": "@jupyter-widgets/controls",
            "layout": "IPY_MODEL_41c90c865ea340f1b3aa6e5c8d3753a1"
          }
        },
        "a2d8b8ea20c54064a7909e6edefba8ee": {
          "model_module": "@jupyter-widgets/output",
          "model_name": "OutputModel",
          "state": {
            "_view_name": "OutputView",
            "msg_id": "",
            "_dom_classes": [],
            "_model_name": "OutputModel",
            "outputs": [
              {
                "output_type": "display_data",
                "metadata": {
                  "tags": []
                },
                "text/plain": "('20.01.2021', 'kolmapäev')"
              }
            ],
            "_view_module": "@jupyter-widgets/output",
            "_model_module_version": "1.0.0",
            "_view_count": null,
            "_view_module_version": "1.0.0",
            "layout": "IPY_MODEL_cc6f4e15716b4cbfbe19f88ac4a3569d",
            "_model_module": "@jupyter-widgets/output"
          }
        },
        "1cbbc34027b24363a349d59ba6dc4700": {
          "model_module": "@jupyter-widgets/controls",
          "model_name": "SliderStyleModel",
          "state": {
            "_view_name": "StyleView",
            "handle_color": null,
            "_model_name": "SliderStyleModel",
            "description_width": "",
            "_view_module": "@jupyter-widgets/base",
            "_model_module_version": "1.5.0",
            "_view_count": null,
            "_view_module_version": "1.2.0",
            "_model_module": "@jupyter-widgets/controls"
          }
        },
        "41c90c865ea340f1b3aa6e5c8d3753a1": {
          "model_module": "@jupyter-widgets/base",
          "model_name": "LayoutModel",
          "state": {
            "_view_name": "LayoutView",
            "grid_template_rows": null,
            "right": null,
            "justify_content": null,
            "_view_module": "@jupyter-widgets/base",
            "overflow": null,
            "_model_module_version": "1.2.0",
            "_view_count": null,
            "flex_flow": null,
            "width": "1500px",
            "min_width": null,
            "border": null,
            "align_items": null,
            "bottom": null,
            "_model_module": "@jupyter-widgets/base",
            "top": null,
            "grid_column": null,
            "overflow_y": null,
            "overflow_x": null,
            "grid_auto_flow": null,
            "grid_area": null,
            "grid_template_columns": null,
            "flex": null,
            "_model_name": "LayoutModel",
            "justify_items": null,
            "grid_row": null,
            "max_height": null,
            "align_content": null,
            "visibility": null,
            "align_self": null,
            "height": null,
            "min_height": null,
            "padding": null,
            "grid_auto_rows": null,
            "grid_gap": null,
            "max_width": null,
            "order": null,
            "_view_module_version": "1.2.0",
            "grid_template_areas": null,
            "object_position": null,
            "object_fit": null,
            "grid_auto_columns": null,
            "margin": null,
            "display": null,
            "left": null
          }
        },
        "cc6f4e15716b4cbfbe19f88ac4a3569d": {
          "model_module": "@jupyter-widgets/base",
          "model_name": "LayoutModel",
          "state": {
            "_view_name": "LayoutView",
            "grid_template_rows": null,
            "right": null,
            "justify_content": null,
            "_view_module": "@jupyter-widgets/base",
            "overflow": null,
            "_model_module_version": "1.2.0",
            "_view_count": null,
            "flex_flow": null,
            "width": null,
            "min_width": null,
            "border": null,
            "align_items": null,
            "bottom": null,
            "_model_module": "@jupyter-widgets/base",
            "top": null,
            "grid_column": null,
            "overflow_y": null,
            "overflow_x": null,
            "grid_auto_flow": null,
            "grid_area": null,
            "grid_template_columns": null,
            "flex": null,
            "_model_name": "LayoutModel",
            "justify_items": null,
            "grid_row": null,
            "max_height": null,
            "align_content": null,
            "visibility": null,
            "align_self": null,
            "height": null,
            "min_height": null,
            "padding": null,
            "grid_auto_rows": null,
            "grid_gap": null,
            "max_width": null,
            "order": null,
            "_view_module_version": "1.2.0",
            "grid_template_areas": null,
            "object_position": null,
            "object_fit": null,
            "grid_auto_columns": null,
            "margin": null,
            "display": null,
            "left": null
          }
        }
      }
    }
  },
  "cells": [
    {
      "cell_type": "markdown",
      "metadata": {
        "id": "view-in-github",
        "colab_type": "text"
      },
      "source": [
        "<a href=\"https://colab.research.google.com/github/maiko29/jupiter_notebook/blob/main/kuup%C3%A4eva_kalkulaator.ipynb\" target=\"_parent\"><img src=\"https://colab.research.google.com/assets/colab-badge.svg\" alt=\"Open In Colab\"/></a>"
      ]
    },
    {
      "cell_type": "markdown",
      "metadata": {
        "id": "3Vs5_vEWsSXE"
      },
      "source": [
        "Käesoleva ***Jupyter Notebook***i eesmärgiks on arvutada tänasest kuupäevast ***n*** päeva võrra edasi või tagasi suunas jäävaid kuupäevi. Esimene blokk arvutab *vaikimisi* tänasest kuupäevast 180* päeva tagasi suunas. 180 päeva *vaikeväärtust* võid koodis muutujas ***mituPäevaTagasi*** muuta vastavalt oma soovile. "
      ]
    },
    {
      "cell_type": "code",
      "metadata": {
        "id": "eB7qqlfjfOSM",
        "outputId": "2661f069-729b-4ae9-f13c-3cb7afdbece5",
        "colab": {
          "base_uri": "https://localhost:8080/"
        }
      },
      "source": [
        "from datetime import datetime,timedelta\r\n",
        "from ipywidgets import interact, widgets, Layout\r\n",
        "\r\n",
        "## selle muutuja väärtust võid muuta selliseks, millist päevade arvu tagasi suunas arvutada soovid\r\n",
        "mituPäevaTagasi = 180\r\n",
        "\r\n",
        "nädalaPäevadEestiKeeles = {\r\n",
        "'Monday':'esmaspäev',\r\n",
        "'Tuesday':'teisipäev',\r\n",
        "'Wednesday':'kolmapäev',\r\n",
        "'Thursday':'neljapäev',\r\n",
        "'Friday':'reede',\r\n",
        "'Saturday':'laupäev',\r\n",
        "'Sunday':'pühapäev'\r\n",
        "}\r\n",
        "\r\n",
        "täna = datetime.today().strftime('%d.%m.%Y')\r\n",
        "vastus = datetime.today()-timedelta(days=mituPäevaTagasi)\r\n",
        "\r\n",
        "def teine(x):\r\n",
        "  täna = datetime.today().strftime('%d.%m.%Y')\r\n",
        "  return datetime.today()-timedelta(days=x)\r\n",
        "\r\n",
        "\r\n",
        "def päevaTagasi(x):\r\n",
        "  täna = datetime.today().strftime('%d.%m.%Y')\r\n",
        "  vastus = datetime.today()+timedelta(days=x)\r\n",
        "  return vastus.strftime('%d.%m.%Y'), nädalaPäevadEestiKeeles[vastus.strftime('%A')]\r\n",
        "\r\n",
        "print('Tänasest ('+täna+') '+str(mituPäevaTagasi)+' päeva tagasi oli: '+vastus.strftime('%d.%m.%Y')+', mille nädalapäev oli '+nädalaPäevadEestiKeeles[vastus.strftime('%A')]+'.')\r\n",
        "print('\\n')\r\n",
        "print('Tänasest ('+täna+') 365 päeva tagasi oli: '+teine(365).strftime('%d.%m.%Y')+', mille nädalapäev oli '+nädalaPäevadEestiKeeles[teine(365).strftime('%A')]+'.')\r\n",
        "print('\\n')\r\n",
        "print('Tänasest ('+täna+') 455 päeva tagasi oli: '+teine(455).strftime('%d.%m.%Y')+', mille nädalapäev oli '+nädalaPäevadEestiKeeles[teine(455).strftime('%A')]+'.')\r\n",
        "\r\n"
      ],
      "execution_count": 3,
      "outputs": [
        {
          "output_type": "stream",
          "text": [
            "Tänasest (20.01.2021) 180 päeva tagasi oli: 24.07.2020, mille nädalapäev oli reede.\n",
            "\n",
            "\n",
            "Tänasest (20.01.2021) 365 päeva tagasi oli: 21.01.2020, mille nädalapäev oli teisipäev.\n",
            "\n",
            "\n",
            "Tänasest (20.01.2021) 455 päeva tagasi oli: 23.10.2019, mille nädalapäev oli kolmapäev.\n"
          ],
          "name": "stdout"
        }
      ]
    },
    {
      "cell_type": "markdown",
      "metadata": {
        "id": "gQl1Dy8DpSQy"
      },
      "source": [
        "---\r\n",
        "Alljärgneva vidina abil on võimalik liuguri abil leida **tänasest** kuupäevast \r\n",
        "\r\n",
        "sellele +/- 360 päeva eelnev/järgnev kuupäev.\r\n",
        "\r\n",
        "S.t   \r\n",
        "*   ***täna + 0 päeva*** väljastab tänase kuupäeva,\r\n",
        "*   ***täna - 1 päev*** väljastab eilse kuupäeva (pane tähele, et eilsest tänaseni (**k.a**) on seevastu aga 2 päeva...)\r\n",
        "*   ***täna + 2 päeva*** väljastab ülehomse kuupäeva (pane tähele, et tänasest ülehomseni (**k.a**) on seevastu aga 3 päeva...)\r\n",
        "\r\n",
        "\r\n",
        "Soovitud arvutuseks lohista liugurit ja anna mõni hetk tulemuse kuvamiseks. \r\n",
        "\r\n",
        "Alternatiivselt on sul võimalik trükkida täpne päevade arv liuguri kõrval olevale numbriväljale."
      ]
    },
    {
      "cell_type": "code",
      "metadata": {
        "id": "5MJj1JQLnir7",
        "outputId": "c3764e9f-b28e-4f5d-acf9-80761792a953",
        "colab": {
          "base_uri": "https://localhost:8080/",
          "height": 83,
          "referenced_widgets": [
            "cd398fa3e2f94eb09d645b3308c8616b",
            "c9bda227c7444a9c9fa4b46f55f957c1",
            "84fcf2059ac64268aa504a46b5a0a124",
            "a2d8b8ea20c54064a7909e6edefba8ee",
            "1cbbc34027b24363a349d59ba6dc4700",
            "41c90c865ea340f1b3aa6e5c8d3753a1",
            "cc6f4e15716b4cbfbe19f88ac4a3569d"
          ]
        }
      },
      "source": [
        "interact(päevaTagasi,x=widgets.IntSlider(min=-360,max=360,value=0,description='Nihe päevades: ', layout=Layout(width='1500px')))"
      ],
      "execution_count": 4,
      "outputs": [
        {
          "output_type": "display_data",
          "data": {
            "application/vnd.jupyter.widget-view+json": {
              "model_id": "cd398fa3e2f94eb09d645b3308c8616b",
              "version_minor": 0,
              "version_major": 2
            },
            "text/plain": [
              "interactive(children=(IntSlider(value=0, description='Nihe päevades: ', layout=Layout(width='1500px'), max=360…"
            ]
          },
          "metadata": {
            "tags": []
          }
        },
        {
          "output_type": "execute_result",
          "data": {
            "text/plain": [
              "<function __main__.päevaTagasi>"
            ]
          },
          "metadata": {
            "tags": []
          },
          "execution_count": 4
        }
      ]
    }
  ]
}
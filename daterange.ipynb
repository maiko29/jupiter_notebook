{
  "nbformat": 4,
  "nbformat_minor": 0,
  "metadata": {
    "colab": {
      "name": "daterange.ipynb",
      "provenance": [],
      "authorship_tag": "ABX9TyNRjEeVmrNIUmKNogedXeOx",
      "include_colab_link": true
    },
    "kernelspec": {
      "name": "python3",
      "display_name": "Python 3"
    }
  },
  "cells": [
    {
      "cell_type": "markdown",
      "metadata": {
        "id": "view-in-github",
        "colab_type": "text"
      },
      "source": [
        "<a href=\"https://colab.research.google.com/github/maiko29/jupiter_notebook/blob/main/daterange.ipynb\" target=\"_parent\"><img src=\"https://colab.research.google.com/assets/colab-badge.svg\" alt=\"Open In Colab\"/></a>"
      ]
    },
    {
      "cell_type": "code",
      "metadata": {
        "colab": {
          "base_uri": "https://localhost:8080/"
        },
        "id": "Jhr9Xq-A6bV6",
        "outputId": "188f6968-33ff-4073-dac4-1f8ab77f84f6"
      },
      "source": [
        "import pandas as pd\r\n",
        "from datetime import datetime,timedelta\r\n",
        "\r\n",
        "ajaraam = pd.date_range(start='2020-01-01', end='2020-01-06')\r\n",
        "print(ajaraam[1])\r\n",
        "\r\n",
        "if '2020-02-01' in ajaraam:\r\n",
        "  print('sisaldab')\r\n",
        "else:\r\n",
        "  print('ei sisalda')"
      ],
      "execution_count": 5,
      "outputs": [
        {
          "output_type": "stream",
          "text": [
            "2020-01-02 00:00:00\n",
            "ei sisalda\n"
          ],
          "name": "stdout"
        }
      ]
    }
  ]
}